{
 "cells": [
  {
   "cell_type": "code",
   "execution_count": 20,
   "metadata": {},
   "outputs": [],
   "source": [
    "import numpy as np\n",
    "import logging\n",
    "from gen_inst import TSPInstance, load_dataset, dataset_conf\n",
    "from gls import guided_local_search\n",
    "from sklearn.preprocessing import StandardScaler\n",
    "import elkai\n",
    "from tqdm import tqdm\n",
    "\n",
    "from sklearn.preprocessing import MinMaxScaler\n",
    "\n",
    "\n",
    "SCALE = 1000000\n",
    "perturbation_moves_map = {\n",
    "    20: 10,\n",
    "    50: 10,\n",
    "    100: 30\n",
    "}\n",
    "time_limit_map = {\n",
    "    20: 0.1,\n",
    "    50: 0.1,\n",
    "    100: 1,\n",
    "}\n",
    "\n",
    "\n",
    "def heuristics_reevo(distance_matrix: np.ndarray) -> np.ndarray:\n",
    "    # Normalize the distance matrix\n",
    "    normalized_distance_matrix = distance_matrix / np.max(distance_matrix)\n",
    "\n",
    "    # Define factors to control the contribution of different criteria\n",
    "    weight_distance = 0.6\n",
    "    weight_promising = 0.4\n",
    "\n",
    "    # Calculate the reciprocal distance matrix\n",
    "    reciprocal_distance_matrix = 1 / normalized_distance_matrix\n",
    "\n",
    "    # Normalize the reciprocal distance matrix\n",
    "    normalized_reciprocal_distance_matrix = reciprocal_distance_matrix / np.max(reciprocal_distance_matrix)\n",
    "\n",
    "    # Calculate the promising factor based on the normalized reciprocal distance matrix\n",
    "    promising_factor = (1 - normalized_reciprocal_distance_matrix) / (distance_matrix.shape[0] - 1)\n",
    "\n",
    "    # Calculate the mean promise for dynamic thresholding\n",
    "    mean_promise = np.mean(promising_factor)\n",
    "\n",
    "    # Calculate the combined promise, considering different factors\n",
    "    overall_promise = weight_distance * normalized_distance_matrix + weight_promising * promising_factor\n",
    "\n",
    "    # Sparsify the matrix by setting unpromising elements to zero\n",
    "    sparsified_matrix = np.where(overall_promise > mean_promise, overall_promise, 0)\n",
    "\n",
    "    return sparsified_matrix\n",
    "\n",
    "\n",
    "def calculate_cost(inst: TSPInstance, path: np.ndarray) -> float:\n",
    "    return inst.distmat[path, np.roll(path, 1)].sum().item()\n",
    "\n",
    "def solve(inst: TSPInstance) -> float:\n",
    "    heu = heuristics_reevo(inst.distmat)\n",
    "    assert tuple(heu.shape) == (inst.n, inst.n)\n",
    "    heu[heu < 1e-6] = 1e-6\n",
    "    result = guided_local_search(inst.distmat, heu, perturbation_moves_map[inst.n], time_limit_map[inst.n])\n",
    "    # print(result)\n",
    "    return calculate_cost(inst, result)\n"
   ]
  },
  {
   "cell_type": "code",
   "execution_count": 16,
   "metadata": {},
   "outputs": [
    {
     "name": "stderr",
     "output_type": "stream",
     "text": [
      "64it [00:00, 410.22it/s]\n",
      "64it [00:02, 29.37it/s]\n",
      "64it [00:16,  3.92it/s]"
     ]
    },
    {
     "name": "stdout",
     "output_type": "stream",
     "text": [
      "{20: 3.8362853943492015, 50: 5.68457994395107, 100: 7.778580370400294}\n"
     ]
    },
    {
     "name": "stderr",
     "output_type": "stream",
     "text": [
      "\n"
     ]
    }
   ],
   "source": [
    "test_sizes = [20, 50, 100]\n",
    "dataset_size = 64\n",
    "\n",
    "# Precompute the optimal solutions\n",
    "optimal_objs_dict = {}\n",
    "for problem_size in test_sizes:\n",
    "    dataset_path = f\"dataset/test{problem_size}_dataset.npy\"\n",
    "    dataset = load_dataset(dataset_path)[:dataset_size]\n",
    "    n_instances = dataset[0].n\n",
    "    logging.info(f\"[*] Evaluating {dataset_path} with LKH\")\n",
    "\n",
    "    optimal_objs = []\n",
    "    for i, instance in tqdm(enumerate(dataset)):\n",
    "        elkai_dist = elkai.DistanceMatrix(((instance.distmat * SCALE).astype(int)).tolist()) \n",
    "        optimal_route = elkai_dist.solve_tsp() # e.g. [0, 2, 1, 0]; with proven optimal solutions up to N=315 (https://github.com/fikisipi/elkai)\n",
    "        optimal_obj = calculate_cost(instance, np.array(optimal_route[:-1]))\n",
    "        optimal_objs.append(optimal_obj)\n",
    "        \n",
    "    mean_optimal_obj = np.mean(optimal_objs)\n",
    "\n",
    "    optimal_objs_dict[problem_size] = mean_optimal_obj\n",
    "    \n",
    "print(optimal_objs_dict)"
   ]
  },
  {
   "cell_type": "code",
   "execution_count": 21,
   "metadata": {},
   "outputs": [
    {
     "name": "stderr",
     "output_type": "stream",
     "text": [
      "64it [00:06,  9.95it/s]\n"
     ]
    },
    {
     "name": "stdout",
     "output_type": "stream",
     "text": [
      "[*] Average for 20: 3.836 (3.836)\n",
      "[*] Optimality gap: 0.000%\n",
      "\n"
     ]
    },
    {
     "name": "stderr",
     "output_type": "stream",
     "text": [
      "64it [00:06,  9.93it/s]\n"
     ]
    },
    {
     "name": "stdout",
     "output_type": "stream",
     "text": [
      "[*] Average for 50: 5.685 (5.685)\n",
      "[*] Optimality gap: 0.000%\n",
      "\n"
     ]
    },
    {
     "name": "stderr",
     "output_type": "stream",
     "text": [
      "64it [01:04,  1.00s/it]"
     ]
    },
    {
     "name": "stdout",
     "output_type": "stream",
     "text": [
      "[*] Average for 100: 7.779 (7.779)\n",
      "[*] Optimality gap: 0.000%\n",
      "\n"
     ]
    },
    {
     "name": "stderr",
     "output_type": "stream",
     "text": [
      "\n"
     ]
    }
   ],
   "source": [
    "\n",
    "for problem_size in test_sizes:\n",
    "    dataset_path = f\"dataset/test{problem_size}_dataset.npy\"\n",
    "    dataset = load_dataset(dataset_path)[:dataset_size]\n",
    "    n_instances = dataset[0].n\n",
    "    logging.info(f\"[*] Evaluating {dataset_path}\")\n",
    "\n",
    "    objs = []\n",
    "    for i, instance in tqdm(enumerate(dataset)):\n",
    "        obj = solve(instance)\n",
    "        objs.append(obj)\n",
    "\n",
    "    mean_obj = np.mean(objs)\n",
    "    mean_optimal_obj = optimal_objs_dict[problem_size]\n",
    "    print(f\"[*] Average for {problem_size}: {mean_obj:.3f} ({mean_optimal_obj:.3f})\")\n",
    "    print(f\"[*] Optimality gap: {(mean_obj - mean_optimal_obj) / mean_optimal_obj * 100:.3f}%\")\n",
    "    print()"
   ]
  }
 ],
 "metadata": {
  "kernelspec": {
   "display_name": "base",
   "language": "python",
   "name": "python3"
  },
  "language_info": {
   "codemirror_mode": {
    "name": "ipython",
    "version": 3
   },
   "file_extension": ".py",
   "mimetype": "text/x-python",
   "name": "python",
   "nbconvert_exporter": "python",
   "pygments_lexer": "ipython3",
   "version": "3.11.3"
  }
 },
 "nbformat": 4,
 "nbformat_minor": 2
}
